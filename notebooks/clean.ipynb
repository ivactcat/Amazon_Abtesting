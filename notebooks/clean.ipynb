{
 "cells": [
  {
   "cell_type": "code",
   "execution_count": 19,
   "id": "de7f478b",
   "metadata": {},
   "outputs": [],
   "source": [
    "import pandas as pd\n",
    "pd.set_option('display.max_columns',None)\n",
    "import sys\n",
    "sys.path.append(\"..\")\n",
    "from src import src_eda as src_eda"
   ]
  },
  {
   "cell_type": "code",
   "execution_count": 20,
   "id": "1a01d8e3",
   "metadata": {},
   "outputs": [
    {
     "data": {
      "text/html": [
       "<div>\n",
       "<style scoped>\n",
       "    .dataframe tbody tr th:only-of-type {\n",
       "        vertical-align: middle;\n",
       "    }\n",
       "\n",
       "    .dataframe tbody tr th {\n",
       "        vertical-align: top;\n",
       "    }\n",
       "\n",
       "    .dataframe thead th {\n",
       "        text-align: right;\n",
       "    }\n",
       "</style>\n",
       "<table border=\"1\" class=\"dataframe\">\n",
       "  <thead>\n",
       "    <tr style=\"text-align: right;\">\n",
       "      <th></th>\n",
       "      <th>User Id</th>\n",
       "      <th>Group</th>\n",
       "      <th>Visit Date</th>\n",
       "      <th>Conversion</th>\n",
       "      <th>Product Category</th>\n",
       "      <th>Product Id</th>\n",
       "      <th>Product Name</th>\n",
       "      <th>Quantity</th>\n",
       "      <th>Price</th>\n",
       "      <th>Discount</th>\n",
       "      <th>Total Value</th>\n",
       "      <th>Payment Method</th>\n",
       "      <th>Shipping Method</th>\n",
       "      <th>Region</th>\n",
       "      <th>Customer Age</th>\n",
       "      <th>Customer Gender</th>\n",
       "      <th>Device</th>\n",
       "      <th>Session Duration</th>\n",
       "      <th>Coupon Used</th>\n",
       "      <th>Browser</th>\n",
       "      <th>Referral Source</th>\n",
       "    </tr>\n",
       "  </thead>\n",
       "  <tbody>\n",
       "    <tr>\n",
       "      <th>1820</th>\n",
       "      <td>1821</td>\n",
       "      <td>A</td>\n",
       "      <td>30/01/2022</td>\n",
       "      <td>0</td>\n",
       "      <td>ELECTRONICS</td>\n",
       "      <td>P1119</td>\n",
       "      <td>Laptop</td>\n",
       "      <td>0</td>\n",
       "      <td>915,51</td>\n",
       "      <td>0,11</td>\n",
       "      <td>0,0</td>\n",
       "      <td>NaN</td>\n",
       "      <td>NaN</td>\n",
       "      <td>Central</td>\n",
       "      <td>50.0</td>\n",
       "      <td>F</td>\n",
       "      <td>Desktop</td>\n",
       "      <td>17</td>\n",
       "      <td>NaN</td>\n",
       "      <td>Eddddge</td>\n",
       "      <td>Social</td>\n",
       "    </tr>\n",
       "  </tbody>\n",
       "</table>\n",
       "</div>"
      ],
      "text/plain": [
       "      User Id Group  Visit Date  Conversion Product Category Product Id  \\\n",
       "1820     1821     A  30/01/2022           0      ELECTRONICS      P1119   \n",
       "\n",
       "     Product Name  Quantity   Price Discount Total Value Payment Method  \\\n",
       "1820       Laptop         0  915,51     0,11         0,0            NaN   \n",
       "\n",
       "     Shipping Method   Region  Customer Age Customer Gender   Device  \\\n",
       "1820             NaN  Central          50.0               F  Desktop   \n",
       "\n",
       "      Session Duration Coupon Used  Browser Referral Source  \n",
       "1820                17         NaN  Eddddge          Social  "
      ]
     },
     "execution_count": 20,
     "metadata": {},
     "output_type": "execute_result"
    }
   ],
   "source": [
    "df_raw=pd.read_csv('../data/data_raw.csv')\n",
    "df_raw.sample()"
   ]
  },
  {
   "cell_type": "code",
   "execution_count": 21,
   "id": "5fcb9506",
   "metadata": {},
   "outputs": [],
   "source": [
    "df= df_raw"
   ]
  },
  {
   "cell_type": "markdown",
   "id": "c5e4b0b2",
   "metadata": {},
   "source": [
    "name changes columns"
   ]
  },
  {
   "cell_type": "code",
   "execution_count": 22,
   "id": "c39018b3",
   "metadata": {},
   "outputs": [
    {
     "data": {
      "text/plain": [
       "Index(['user_id', 'group', 'visit_date', 'conversion', 'product_category',\n",
       "       'product_id', 'product_name', 'quantity', 'price', 'discount',\n",
       "       'total_value', 'payment_method', 'shipping_method', 'region',\n",
       "       'customer_age', 'customer_gender', 'device', 'session_duration',\n",
       "       'coupon_used', 'browser', 'referral_source'],\n",
       "      dtype='object')"
      ]
     },
     "execution_count": 22,
     "metadata": {},
     "output_type": "execute_result"
    }
   ],
   "source": [
    "df.columns= df.columns.str.replace(\" \" , \"_\").str.lower()\n",
    "df.columns"
   ]
  },
  {
   "cell_type": "markdown",
   "id": "e8bcf9ad",
   "metadata": {},
   "source": [
    "visit_date\n"
   ]
  },
  {
   "cell_type": "code",
   "execution_count": 23,
   "id": "a71e0601",
   "metadata": {},
   "outputs": [],
   "source": [
    "df['visit_date']=pd.to_datetime(df['visit_date'], format= '%d/%m/%Y')"
   ]
  },
  {
   "cell_type": "markdown",
   "id": "43d365ee",
   "metadata": {},
   "source": [
    "create conversion str"
   ]
  },
  {
   "cell_type": "code",
   "execution_count": 24,
   "id": "72215c7f",
   "metadata": {},
   "outputs": [],
   "source": [
    "df['conversion_str']= df['conversion'].apply (lambda x : \"yes\" if x == 1 else \"no\")"
   ]
  },
  {
   "cell_type": "code",
   "execution_count": 25,
   "id": "7df37d5f",
   "metadata": {},
   "outputs": [
    {
     "data": {
      "text/html": [
       "<div>\n",
       "<style scoped>\n",
       "    .dataframe tbody tr th:only-of-type {\n",
       "        vertical-align: middle;\n",
       "    }\n",
       "\n",
       "    .dataframe tbody tr th {\n",
       "        vertical-align: top;\n",
       "    }\n",
       "\n",
       "    .dataframe thead th {\n",
       "        text-align: right;\n",
       "    }\n",
       "</style>\n",
       "<table border=\"1\" class=\"dataframe\">\n",
       "  <thead>\n",
       "    <tr style=\"text-align: right;\">\n",
       "      <th></th>\n",
       "      <th>conversion</th>\n",
       "      <th>conversion_str</th>\n",
       "    </tr>\n",
       "  </thead>\n",
       "  <tbody>\n",
       "    <tr>\n",
       "      <th>0</th>\n",
       "      <td>0</td>\n",
       "      <td>no</td>\n",
       "    </tr>\n",
       "    <tr>\n",
       "      <th>1</th>\n",
       "      <td>0</td>\n",
       "      <td>no</td>\n",
       "    </tr>\n",
       "    <tr>\n",
       "      <th>2</th>\n",
       "      <td>0</td>\n",
       "      <td>no</td>\n",
       "    </tr>\n",
       "    <tr>\n",
       "      <th>3</th>\n",
       "      <td>1</td>\n",
       "      <td>yes</td>\n",
       "    </tr>\n",
       "    <tr>\n",
       "      <th>4</th>\n",
       "      <td>0</td>\n",
       "      <td>no</td>\n",
       "    </tr>\n",
       "    <tr>\n",
       "      <th>...</th>\n",
       "      <td>...</td>\n",
       "      <td>...</td>\n",
       "    </tr>\n",
       "    <tr>\n",
       "      <th>1995</th>\n",
       "      <td>0</td>\n",
       "      <td>no</td>\n",
       "    </tr>\n",
       "    <tr>\n",
       "      <th>1996</th>\n",
       "      <td>0</td>\n",
       "      <td>no</td>\n",
       "    </tr>\n",
       "    <tr>\n",
       "      <th>1997</th>\n",
       "      <td>0</td>\n",
       "      <td>no</td>\n",
       "    </tr>\n",
       "    <tr>\n",
       "      <th>1998</th>\n",
       "      <td>0</td>\n",
       "      <td>no</td>\n",
       "    </tr>\n",
       "    <tr>\n",
       "      <th>1999</th>\n",
       "      <td>0</td>\n",
       "      <td>no</td>\n",
       "    </tr>\n",
       "  </tbody>\n",
       "</table>\n",
       "<p>2000 rows × 2 columns</p>\n",
       "</div>"
      ],
      "text/plain": [
       "      conversion conversion_str\n",
       "0              0             no\n",
       "1              0             no\n",
       "2              0             no\n",
       "3              1            yes\n",
       "4              0             no\n",
       "...          ...            ...\n",
       "1995           0             no\n",
       "1996           0             no\n",
       "1997           0             no\n",
       "1998           0             no\n",
       "1999           0             no\n",
       "\n",
       "[2000 rows x 2 columns]"
      ]
     },
     "execution_count": 25,
     "metadata": {},
     "output_type": "execute_result"
    }
   ],
   "source": [
    "df.loc[:,['conversion','conversion_str']]"
   ]
  },
  {
   "cell_type": "markdown",
   "id": "82df8aaf",
   "metadata": {},
   "source": [
    "change uppercase to lowercase and modify words "
   ]
  },
  {
   "cell_type": "code",
   "execution_count": 26,
   "id": "27037242",
   "metadata": {},
   "outputs": [],
   "source": [
    "df['product_category']= df['product_category'].str.lower()"
   ]
  },
  {
   "cell_type": "code",
   "execution_count": 27,
   "id": "a8213f38",
   "metadata": {},
   "outputs": [],
   "source": [
    "df['product_category']= df['product_category'].str.replace('fashhion','fashion')"
   ]
  },
  {
   "cell_type": "code",
   "execution_count": 28,
   "id": "58ba2fbd",
   "metadata": {},
   "outputs": [
    {
     "data": {
      "text/plain": [
       "array(['books', 'beauty', 'fashion', 'sports', 'toys', 'electronics',\n",
       "       'home'], dtype=object)"
      ]
     },
     "execution_count": 28,
     "metadata": {},
     "output_type": "execute_result"
    }
   ],
   "source": [
    "df['product_category'].unique()"
   ]
  },
  {
   "cell_type": "markdown",
   "id": "88b6049a",
   "metadata": {},
   "source": [
    "producto_ id"
   ]
  },
  {
   "cell_type": "code",
   "execution_count": 29,
   "id": "1fa16d43",
   "metadata": {},
   "outputs": [
    {
     "data": {
      "text/html": [
       "<div>\n",
       "<style scoped>\n",
       "    .dataframe tbody tr th:only-of-type {\n",
       "        vertical-align: middle;\n",
       "    }\n",
       "\n",
       "    .dataframe tbody tr th {\n",
       "        vertical-align: top;\n",
       "    }\n",
       "\n",
       "    .dataframe thead th {\n",
       "        text-align: right;\n",
       "    }\n",
       "</style>\n",
       "<table border=\"1\" class=\"dataframe\">\n",
       "  <thead>\n",
       "    <tr style=\"text-align: right;\">\n",
       "      <th></th>\n",
       "      <th>user_id</th>\n",
       "      <th>group</th>\n",
       "      <th>visit_date</th>\n",
       "      <th>conversion</th>\n",
       "      <th>product_category</th>\n",
       "      <th>product_id</th>\n",
       "      <th>product_name</th>\n",
       "      <th>quantity</th>\n",
       "      <th>price</th>\n",
       "      <th>discount</th>\n",
       "      <th>total_value</th>\n",
       "      <th>payment_method</th>\n",
       "      <th>shipping_method</th>\n",
       "      <th>region</th>\n",
       "      <th>customer_age</th>\n",
       "      <th>customer_gender</th>\n",
       "      <th>device</th>\n",
       "      <th>session_duration</th>\n",
       "      <th>coupon_used</th>\n",
       "      <th>browser</th>\n",
       "      <th>referral_source</th>\n",
       "      <th>conversion_str</th>\n",
       "    </tr>\n",
       "  </thead>\n",
       "  <tbody>\n",
       "    <tr>\n",
       "      <th>1539</th>\n",
       "      <td>1540</td>\n",
       "      <td>B</td>\n",
       "      <td>2022-01-28</td>\n",
       "      <td>0</td>\n",
       "      <td>home</td>\n",
       "      <td>P1382</td>\n",
       "      <td>Chair</td>\n",
       "      <td>0</td>\n",
       "      <td>412,74</td>\n",
       "      <td>0,09</td>\n",
       "      <td>0,0</td>\n",
       "      <td>NaN</td>\n",
       "      <td>NaN</td>\n",
       "      <td>Central</td>\n",
       "      <td>44.0</td>\n",
       "      <td>F</td>\n",
       "      <td>Mobile</td>\n",
       "      <td>15</td>\n",
       "      <td>NaN</td>\n",
       "      <td>Firefoxxxxxx</td>\n",
       "      <td>Email</td>\n",
       "      <td>no</td>\n",
       "    </tr>\n",
       "  </tbody>\n",
       "</table>\n",
       "</div>"
      ],
      "text/plain": [
       "      user_id group visit_date  conversion product_category product_id  \\\n",
       "1539     1540     B 2022-01-28           0             home      P1382   \n",
       "\n",
       "     product_name  quantity   price discount total_value payment_method  \\\n",
       "1539        Chair         0  412,74     0,09         0,0            NaN   \n",
       "\n",
       "     shipping_method   region  customer_age customer_gender  device  \\\n",
       "1539             NaN  Central          44.0               F  Mobile   \n",
       "\n",
       "      session_duration coupon_used       browser referral_source  \\\n",
       "1539                15         NaN  Firefoxxxxxx           Email   \n",
       "\n",
       "     conversion_str  \n",
       "1539             no  "
      ]
     },
     "execution_count": 29,
     "metadata": {},
     "output_type": "execute_result"
    }
   ],
   "source": [
    "df.sample()"
   ]
  },
  {
   "cell_type": "code",
   "execution_count": 30,
   "id": "9f55eec3",
   "metadata": {},
   "outputs": [],
   "source": [
    "df['product_id']= df['product_id'].str.replace('P','')"
   ]
  },
  {
   "cell_type": "code",
   "execution_count": 31,
   "id": "22bbd60e",
   "metadata": {},
   "outputs": [],
   "source": [
    "df['product_id']= df['product_id'].astype('int64')"
   ]
  },
  {
   "cell_type": "code",
   "execution_count": 32,
   "id": "4917991f",
   "metadata": {},
   "outputs": [
    {
     "name": "stdout",
     "output_type": "stream",
     "text": [
      "<class 'pandas.core.frame.DataFrame'>\n",
      "RangeIndex: 2000 entries, 0 to 1999\n",
      "Data columns (total 22 columns):\n",
      " #   Column            Non-Null Count  Dtype         \n",
      "---  ------            --------------  -----         \n",
      " 0   user_id           2000 non-null   int64         \n",
      " 1   group             2000 non-null   object        \n",
      " 2   visit_date        2000 non-null   datetime64[ns]\n",
      " 3   conversion        2000 non-null   int64         \n",
      " 4   product_category  2000 non-null   object        \n",
      " 5   product_id        2000 non-null   int64         \n",
      " 6   product_name      2000 non-null   object        \n",
      " 7   quantity          2000 non-null   int64         \n",
      " 8   price             1960 non-null   object        \n",
      " 9   discount          1960 non-null   object        \n",
      " 10  total_value       2000 non-null   object        \n",
      " 11  payment_method    247 non-null    object        \n",
      " 12  shipping_method   247 non-null    object        \n",
      " 13  region            2000 non-null   object        \n",
      " 14  customer_age      1960 non-null   float64       \n",
      " 15  customer_gender   2000 non-null   object        \n",
      " 16  device            2000 non-null   object        \n",
      " 17  session_duration  2000 non-null   int64         \n",
      " 18  coupon_used       247 non-null    object        \n",
      " 19  browser           2000 non-null   object        \n",
      " 20  referral_source   2000 non-null   object        \n",
      " 21  conversion_str    2000 non-null   object        \n",
      "dtypes: datetime64[ns](1), float64(1), int64(5), object(15)\n",
      "memory usage: 343.9+ KB\n"
     ]
    }
   ],
   "source": [
    "df.info()"
   ]
  },
  {
   "cell_type": "markdown",
   "id": "9b902a97",
   "metadata": {},
   "source": [
    "producto_name"
   ]
  },
  {
   "cell_type": "code",
   "execution_count": 33,
   "id": "8f1006cc",
   "metadata": {},
   "outputs": [],
   "source": [
    "df['product_name']= df['product_name'].str.replace(' ','_')"
   ]
  },
  {
   "cell_type": "code",
   "execution_count": 34,
   "id": "cfaa4837",
   "metadata": {},
   "outputs": [],
   "source": [
    "def lower(df):\n",
    "    \n",
    "    for col in df.select_dtypes(include='O').columns:\n",
    "        df[col]=df[col].str.lower()\n",
    "    "
   ]
  },
  {
   "cell_type": "code",
   "execution_count": 35,
   "id": "f9ff9cba",
   "metadata": {},
   "outputs": [],
   "source": [
    "lower(df)"
   ]
  },
  {
   "cell_type": "code",
   "execution_count": null,
   "id": "760278b5",
   "metadata": {},
   "outputs": [],
   "source": [
    "src_eda.lower(df,'product_name')"
   ]
  },
  {
   "cell_type": "markdown",
   "id": "87ed8ebc",
   "metadata": {},
   "source": [
    "price"
   ]
  },
  {
   "cell_type": "code",
   "execution_count": 37,
   "id": "1ef758a7",
   "metadata": {},
   "outputs": [],
   "source": [
    "df['price']= df['price'].str.replace(',','.')"
   ]
  },
  {
   "cell_type": "code",
   "execution_count": 38,
   "id": "61dc0cc1",
   "metadata": {},
   "outputs": [],
   "source": [
    "def comma (df):\n",
    "    for col in df.select_dtypes(include='O').columns:\n",
    "        df[col]=df[col].str.replace(',','.')\n",
    "        try:\n",
    "            df[col]= df[col]. astype('float64')\n",
    "        except:\n",
    "            pass\n",
    "        \n",
    "    "
   ]
  },
  {
   "cell_type": "code",
   "execution_count": 39,
   "id": "abb82424",
   "metadata": {},
   "outputs": [],
   "source": [
    "comma(df)"
   ]
  },
  {
   "cell_type": "code",
   "execution_count": 40,
   "id": "3e50e09a",
   "metadata": {},
   "outputs": [
    {
     "data": {
      "text/html": [
       "<div>\n",
       "<style scoped>\n",
       "    .dataframe tbody tr th:only-of-type {\n",
       "        vertical-align: middle;\n",
       "    }\n",
       "\n",
       "    .dataframe tbody tr th {\n",
       "        vertical-align: top;\n",
       "    }\n",
       "\n",
       "    .dataframe thead th {\n",
       "        text-align: right;\n",
       "    }\n",
       "</style>\n",
       "<table border=\"1\" class=\"dataframe\">\n",
       "  <thead>\n",
       "    <tr style=\"text-align: right;\">\n",
       "      <th></th>\n",
       "      <th>user_id</th>\n",
       "      <th>group</th>\n",
       "      <th>visit_date</th>\n",
       "      <th>conversion</th>\n",
       "      <th>product_category</th>\n",
       "      <th>product_id</th>\n",
       "      <th>product_name</th>\n",
       "      <th>quantity</th>\n",
       "      <th>price</th>\n",
       "      <th>discount</th>\n",
       "      <th>total_value</th>\n",
       "      <th>payment_method</th>\n",
       "      <th>shipping_method</th>\n",
       "      <th>region</th>\n",
       "      <th>customer_age</th>\n",
       "      <th>customer_gender</th>\n",
       "      <th>device</th>\n",
       "      <th>session_duration</th>\n",
       "      <th>coupon_used</th>\n",
       "      <th>browser</th>\n",
       "      <th>referral_source</th>\n",
       "      <th>conversion_str</th>\n",
       "    </tr>\n",
       "  </thead>\n",
       "  <tbody>\n",
       "    <tr>\n",
       "      <th>573</th>\n",
       "      <td>574</td>\n",
       "      <td>b</td>\n",
       "      <td>2022-01-29</td>\n",
       "      <td>0</td>\n",
       "      <td>books</td>\n",
       "      <td>1444</td>\n",
       "      <td>mystery</td>\n",
       "      <td>0</td>\n",
       "      <td>21.61</td>\n",
       "      <td>0.15</td>\n",
       "      <td>0.00</td>\n",
       "      <td>NaN</td>\n",
       "      <td>NaN</td>\n",
       "      <td>central</td>\n",
       "      <td>51.0</td>\n",
       "      <td>f</td>\n",
       "      <td>mobile</td>\n",
       "      <td>21</td>\n",
       "      <td>NaN</td>\n",
       "      <td>chrooome</td>\n",
       "      <td>paid</td>\n",
       "      <td>no</td>\n",
       "    </tr>\n",
       "    <tr>\n",
       "      <th>1374</th>\n",
       "      <td>1375</td>\n",
       "      <td>a</td>\n",
       "      <td>2022-03-19</td>\n",
       "      <td>0</td>\n",
       "      <td>beauty</td>\n",
       "      <td>1239</td>\n",
       "      <td>lipstick</td>\n",
       "      <td>0</td>\n",
       "      <td>97.53</td>\n",
       "      <td>0.07</td>\n",
       "      <td>0.00</td>\n",
       "      <td>NaN</td>\n",
       "      <td>NaN</td>\n",
       "      <td>north</td>\n",
       "      <td>20.0</td>\n",
       "      <td>f</td>\n",
       "      <td>tablet</td>\n",
       "      <td>1</td>\n",
       "      <td>NaN</td>\n",
       "      <td>ottttther</td>\n",
       "      <td>organic</td>\n",
       "      <td>no</td>\n",
       "    </tr>\n",
       "    <tr>\n",
       "      <th>1729</th>\n",
       "      <td>1730</td>\n",
       "      <td>b</td>\n",
       "      <td>2022-01-22</td>\n",
       "      <td>0</td>\n",
       "      <td>toys</td>\n",
       "      <td>1857</td>\n",
       "      <td>doll</td>\n",
       "      <td>0</td>\n",
       "      <td>NaN</td>\n",
       "      <td>0.15</td>\n",
       "      <td>0.00</td>\n",
       "      <td>NaN</td>\n",
       "      <td>NaN</td>\n",
       "      <td>east</td>\n",
       "      <td>51.0</td>\n",
       "      <td>m</td>\n",
       "      <td>tablet</td>\n",
       "      <td>12</td>\n",
       "      <td>NaN</td>\n",
       "      <td>chrooome</td>\n",
       "      <td>email</td>\n",
       "      <td>no</td>\n",
       "    </tr>\n",
       "    <tr>\n",
       "      <th>841</th>\n",
       "      <td>842</td>\n",
       "      <td>b</td>\n",
       "      <td>2022-01-22</td>\n",
       "      <td>1</td>\n",
       "      <td>fashion</td>\n",
       "      <td>1824</td>\n",
       "      <td>jeans</td>\n",
       "      <td>3</td>\n",
       "      <td>61.01</td>\n",
       "      <td>0.02</td>\n",
       "      <td>179.37</td>\n",
       "      <td>paypal</td>\n",
       "      <td>same day</td>\n",
       "      <td>east</td>\n",
       "      <td>42.0</td>\n",
       "      <td>m</td>\n",
       "      <td>desktop</td>\n",
       "      <td>14</td>\n",
       "      <td>yes</td>\n",
       "      <td>eddddge</td>\n",
       "      <td>paid</td>\n",
       "      <td>yes</td>\n",
       "    </tr>\n",
       "    <tr>\n",
       "      <th>390</th>\n",
       "      <td>391</td>\n",
       "      <td>b</td>\n",
       "      <td>2022-03-29</td>\n",
       "      <td>0</td>\n",
       "      <td>beauty</td>\n",
       "      <td>1616</td>\n",
       "      <td>mascara</td>\n",
       "      <td>0</td>\n",
       "      <td>98.81</td>\n",
       "      <td>0.22</td>\n",
       "      <td>0.00</td>\n",
       "      <td>NaN</td>\n",
       "      <td>NaN</td>\n",
       "      <td>west</td>\n",
       "      <td>46.0</td>\n",
       "      <td>m</td>\n",
       "      <td>desktop</td>\n",
       "      <td>7</td>\n",
       "      <td>NaN</td>\n",
       "      <td>firefoxxxxxx</td>\n",
       "      <td>email</td>\n",
       "      <td>no</td>\n",
       "    </tr>\n",
       "    <tr>\n",
       "      <th>266</th>\n",
       "      <td>267</td>\n",
       "      <td>b</td>\n",
       "      <td>2022-02-08</td>\n",
       "      <td>0</td>\n",
       "      <td>sports</td>\n",
       "      <td>1430</td>\n",
       "      <td>tennis_racket</td>\n",
       "      <td>0</td>\n",
       "      <td>129.38</td>\n",
       "      <td>0.03</td>\n",
       "      <td>0.00</td>\n",
       "      <td>NaN</td>\n",
       "      <td>NaN</td>\n",
       "      <td>south</td>\n",
       "      <td>65.0</td>\n",
       "      <td>f</td>\n",
       "      <td>mobile</td>\n",
       "      <td>23</td>\n",
       "      <td>NaN</td>\n",
       "      <td>ottttther</td>\n",
       "      <td>organic</td>\n",
       "      <td>no</td>\n",
       "    </tr>\n",
       "    <tr>\n",
       "      <th>1480</th>\n",
       "      <td>1481</td>\n",
       "      <td>b</td>\n",
       "      <td>2022-02-10</td>\n",
       "      <td>0</td>\n",
       "      <td>beauty</td>\n",
       "      <td>1138</td>\n",
       "      <td>mascara</td>\n",
       "      <td>0</td>\n",
       "      <td>80.85</td>\n",
       "      <td>0.03</td>\n",
       "      <td>0.00</td>\n",
       "      <td>NaN</td>\n",
       "      <td>NaN</td>\n",
       "      <td>south</td>\n",
       "      <td>21.0</td>\n",
       "      <td>f</td>\n",
       "      <td>desktop</td>\n",
       "      <td>14</td>\n",
       "      <td>NaN</td>\n",
       "      <td>eddddge</td>\n",
       "      <td>email</td>\n",
       "      <td>no</td>\n",
       "    </tr>\n",
       "    <tr>\n",
       "      <th>269</th>\n",
       "      <td>270</td>\n",
       "      <td>a</td>\n",
       "      <td>2022-03-20</td>\n",
       "      <td>1</td>\n",
       "      <td>toys</td>\n",
       "      <td>1415</td>\n",
       "      <td>puzzle</td>\n",
       "      <td>1</td>\n",
       "      <td>31.74</td>\n",
       "      <td>0.06</td>\n",
       "      <td>29.84</td>\n",
       "      <td>credit card</td>\n",
       "      <td>same day</td>\n",
       "      <td>central</td>\n",
       "      <td>34.0</td>\n",
       "      <td>f</td>\n",
       "      <td>desktop</td>\n",
       "      <td>9</td>\n",
       "      <td>no</td>\n",
       "      <td>safaaaaari</td>\n",
       "      <td>email</td>\n",
       "      <td>yes</td>\n",
       "    </tr>\n",
       "    <tr>\n",
       "      <th>306</th>\n",
       "      <td>307</td>\n",
       "      <td>b</td>\n",
       "      <td>2022-02-16</td>\n",
       "      <td>1</td>\n",
       "      <td>books</td>\n",
       "      <td>1145</td>\n",
       "      <td>mystery</td>\n",
       "      <td>4</td>\n",
       "      <td>46.87</td>\n",
       "      <td>0.09</td>\n",
       "      <td>170.61</td>\n",
       "      <td>bank transfer</td>\n",
       "      <td>express</td>\n",
       "      <td>central</td>\n",
       "      <td>46.0</td>\n",
       "      <td>m</td>\n",
       "      <td>mobile</td>\n",
       "      <td>14</td>\n",
       "      <td>no</td>\n",
       "      <td>firefoxxxxxx</td>\n",
       "      <td>paid</td>\n",
       "      <td>yes</td>\n",
       "    </tr>\n",
       "    <tr>\n",
       "      <th>1991</th>\n",
       "      <td>1992</td>\n",
       "      <td>a</td>\n",
       "      <td>2022-01-13</td>\n",
       "      <td>0</td>\n",
       "      <td>sports</td>\n",
       "      <td>1591</td>\n",
       "      <td>tennis_racket</td>\n",
       "      <td>0</td>\n",
       "      <td>225.64</td>\n",
       "      <td>0.24</td>\n",
       "      <td>0.00</td>\n",
       "      <td>NaN</td>\n",
       "      <td>NaN</td>\n",
       "      <td>south</td>\n",
       "      <td>27.0</td>\n",
       "      <td>f</td>\n",
       "      <td>mobile</td>\n",
       "      <td>28</td>\n",
       "      <td>NaN</td>\n",
       "      <td>safaaaaari</td>\n",
       "      <td>organic</td>\n",
       "      <td>no</td>\n",
       "    </tr>\n",
       "  </tbody>\n",
       "</table>\n",
       "</div>"
      ],
      "text/plain": [
       "      user_id group visit_date  conversion product_category  product_id  \\\n",
       "573       574     b 2022-01-29           0            books        1444   \n",
       "1374     1375     a 2022-03-19           0           beauty        1239   \n",
       "1729     1730     b 2022-01-22           0             toys        1857   \n",
       "841       842     b 2022-01-22           1          fashion        1824   \n",
       "390       391     b 2022-03-29           0           beauty        1616   \n",
       "266       267     b 2022-02-08           0           sports        1430   \n",
       "1480     1481     b 2022-02-10           0           beauty        1138   \n",
       "269       270     a 2022-03-20           1             toys        1415   \n",
       "306       307     b 2022-02-16           1            books        1145   \n",
       "1991     1992     a 2022-01-13           0           sports        1591   \n",
       "\n",
       "       product_name  quantity   price  discount  total_value payment_method  \\\n",
       "573         mystery         0   21.61      0.15         0.00            NaN   \n",
       "1374       lipstick         0   97.53      0.07         0.00            NaN   \n",
       "1729           doll         0     NaN      0.15         0.00            NaN   \n",
       "841           jeans         3   61.01      0.02       179.37         paypal   \n",
       "390         mascara         0   98.81      0.22         0.00            NaN   \n",
       "266   tennis_racket         0  129.38      0.03         0.00            NaN   \n",
       "1480        mascara         0   80.85      0.03         0.00            NaN   \n",
       "269          puzzle         1   31.74      0.06        29.84    credit card   \n",
       "306         mystery         4   46.87      0.09       170.61  bank transfer   \n",
       "1991  tennis_racket         0  225.64      0.24         0.00            NaN   \n",
       "\n",
       "     shipping_method   region  customer_age customer_gender   device  \\\n",
       "573              NaN  central          51.0               f   mobile   \n",
       "1374             NaN    north          20.0               f   tablet   \n",
       "1729             NaN     east          51.0               m   tablet   \n",
       "841         same day     east          42.0               m  desktop   \n",
       "390              NaN     west          46.0               m  desktop   \n",
       "266              NaN    south          65.0               f   mobile   \n",
       "1480             NaN    south          21.0               f  desktop   \n",
       "269         same day  central          34.0               f  desktop   \n",
       "306          express  central          46.0               m   mobile   \n",
       "1991             NaN    south          27.0               f   mobile   \n",
       "\n",
       "      session_duration coupon_used       browser referral_source  \\\n",
       "573                 21         NaN      chrooome            paid   \n",
       "1374                 1         NaN     ottttther         organic   \n",
       "1729                12         NaN      chrooome           email   \n",
       "841                 14         yes       eddddge            paid   \n",
       "390                  7         NaN  firefoxxxxxx           email   \n",
       "266                 23         NaN     ottttther         organic   \n",
       "1480                14         NaN       eddddge           email   \n",
       "269                  9          no    safaaaaari           email   \n",
       "306                 14          no  firefoxxxxxx            paid   \n",
       "1991                28         NaN    safaaaaari         organic   \n",
       "\n",
       "     conversion_str  \n",
       "573              no  \n",
       "1374             no  \n",
       "1729             no  \n",
       "841             yes  \n",
       "390              no  \n",
       "266              no  \n",
       "1480             no  \n",
       "269             yes  \n",
       "306             yes  \n",
       "1991             no  "
      ]
     },
     "execution_count": 40,
     "metadata": {},
     "output_type": "execute_result"
    }
   ],
   "source": [
    "df.sample(10)"
   ]
  },
  {
   "cell_type": "code",
   "execution_count": 41,
   "id": "5edf5f40",
   "metadata": {},
   "outputs": [
    {
     "name": "stdout",
     "output_type": "stream",
     "text": [
      "<class 'pandas.core.frame.DataFrame'>\n",
      "RangeIndex: 2000 entries, 0 to 1999\n",
      "Data columns (total 22 columns):\n",
      " #   Column            Non-Null Count  Dtype         \n",
      "---  ------            --------------  -----         \n",
      " 0   user_id           2000 non-null   int64         \n",
      " 1   group             2000 non-null   object        \n",
      " 2   visit_date        2000 non-null   datetime64[ns]\n",
      " 3   conversion        2000 non-null   int64         \n",
      " 4   product_category  2000 non-null   object        \n",
      " 5   product_id        2000 non-null   int64         \n",
      " 6   product_name      2000 non-null   object        \n",
      " 7   quantity          2000 non-null   int64         \n",
      " 8   price             1960 non-null   float64       \n",
      " 9   discount          1960 non-null   float64       \n",
      " 10  total_value       2000 non-null   float64       \n",
      " 11  payment_method    247 non-null    object        \n",
      " 12  shipping_method   247 non-null    object        \n",
      " 13  region            2000 non-null   object        \n",
      " 14  customer_age      1960 non-null   float64       \n",
      " 15  customer_gender   2000 non-null   object        \n",
      " 16  device            2000 non-null   object        \n",
      " 17  session_duration  2000 non-null   int64         \n",
      " 18  coupon_used       247 non-null    object        \n",
      " 19  browser           2000 non-null   object        \n",
      " 20  referral_source   2000 non-null   object        \n",
      " 21  conversion_str    2000 non-null   object        \n",
      "dtypes: datetime64[ns](1), float64(4), int64(5), object(12)\n",
      "memory usage: 343.9+ KB\n"
     ]
    }
   ],
   "source": [
    "df.info()"
   ]
  },
  {
   "cell_type": "code",
   "execution_count": 42,
   "id": "5540afb4",
   "metadata": {},
   "outputs": [],
   "source": [
    "def replace_space (df):\n",
    "    for col in df.select_dtypes(include='O').columns:\n",
    "        df[col]=df[col].str.replace(' ','_')"
   ]
  },
  {
   "cell_type": "code",
   "execution_count": 43,
   "id": "9004415c",
   "metadata": {},
   "outputs": [],
   "source": [
    "replace_space(df)"
   ]
  },
  {
   "cell_type": "markdown",
   "id": "c4ddcd2d",
   "metadata": {},
   "source": [
    "referral_source"
   ]
  },
  {
   "cell_type": "code",
   "execution_count": 44,
   "id": "43e9ec70",
   "metadata": {},
   "outputs": [
    {
     "data": {
      "text/plain": [
       "array(['safaaaaari', 'ottttther', 'firefoxxxxxx', 'eddddge', 'chrooome'],\n",
       "      dtype=object)"
      ]
     },
     "execution_count": 44,
     "metadata": {},
     "output_type": "execute_result"
    }
   ],
   "source": [
    "df['browser'].unique()"
   ]
  },
  {
   "cell_type": "code",
   "execution_count": 45,
   "id": "3f090c98",
   "metadata": {},
   "outputs": [],
   "source": [
    "dicc_map={'safaaaaari':'safari',\n",
    "          'ottttther':'other', \n",
    "          'firefoxxxxxx':'firefox', \n",
    "          'eddddge':'edge',\n",
    "          'chrooome':'chrome'}"
   ]
  },
  {
   "cell_type": "code",
   "execution_count": 46,
   "id": "1197001b",
   "metadata": {},
   "outputs": [],
   "source": [
    "df['browser']= df['browser'].map(dicc_map)"
   ]
  },
  {
   "cell_type": "code",
   "execution_count": 47,
   "id": "529c899d",
   "metadata": {},
   "outputs": [
    {
     "data": {
      "text/plain": [
       "array(['safari', 'other', 'firefox', 'edge', 'chrome'], dtype=object)"
      ]
     },
     "execution_count": 47,
     "metadata": {},
     "output_type": "execute_result"
    }
   ],
   "source": [
    "df['browser'].unique()"
   ]
  }
 ],
 "metadata": {
  "kernelspec": {
   "display_name": ".venv (3.13.2)",
   "language": "python",
   "name": "python3"
  },
  "language_info": {
   "codemirror_mode": {
    "name": "ipython",
    "version": 3
   },
   "file_extension": ".py",
   "mimetype": "text/x-python",
   "name": "python",
   "nbconvert_exporter": "python",
   "pygments_lexer": "ipython3",
   "version": "3.13.2"
  }
 },
 "nbformat": 4,
 "nbformat_minor": 5
}
