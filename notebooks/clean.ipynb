{
 "cells": [
  {
   "cell_type": "code",
   "execution_count": 1,
   "id": "de7f478b",
   "metadata": {},
   "outputs": [],
   "source": [
    "import pandas as pd\n",
    "pd.set_option('display.max_columns',None)\n",
    "import sys\n",
    "sys.path.append(\"..\")\n",
    "from src import src_eda as src_eda"
   ]
  },
  {
   "cell_type": "code",
   "execution_count": 21,
   "id": "1a01d8e3",
   "metadata": {},
   "outputs": [
    {
     "data": {
      "text/html": [
       "<div>\n",
       "<style scoped>\n",
       "    .dataframe tbody tr th:only-of-type {\n",
       "        vertical-align: middle;\n",
       "    }\n",
       "\n",
       "    .dataframe tbody tr th {\n",
       "        vertical-align: top;\n",
       "    }\n",
       "\n",
       "    .dataframe thead th {\n",
       "        text-align: right;\n",
       "    }\n",
       "</style>\n",
       "<table border=\"1\" class=\"dataframe\">\n",
       "  <thead>\n",
       "    <tr style=\"text-align: right;\">\n",
       "      <th></th>\n",
       "      <th>User Id</th>\n",
       "      <th>Group</th>\n",
       "      <th>Visit Date</th>\n",
       "      <th>Conversion</th>\n",
       "      <th>Product Category</th>\n",
       "      <th>Product Id</th>\n",
       "      <th>Product Name</th>\n",
       "      <th>Quantity</th>\n",
       "      <th>Price</th>\n",
       "      <th>Discount</th>\n",
       "      <th>Total Value</th>\n",
       "      <th>Payment Method</th>\n",
       "      <th>Shipping Method</th>\n",
       "      <th>Region</th>\n",
       "      <th>Customer Age</th>\n",
       "      <th>Customer Gender</th>\n",
       "      <th>Device</th>\n",
       "      <th>Session Duration</th>\n",
       "      <th>Coupon Used</th>\n",
       "      <th>Browser</th>\n",
       "      <th>Referral Source</th>\n",
       "    </tr>\n",
       "  </thead>\n",
       "  <tbody>\n",
       "    <tr>\n",
       "      <th>126</th>\n",
       "      <td>127</td>\n",
       "      <td>B</td>\n",
       "      <td>23/01/2022</td>\n",
       "      <td>0</td>\n",
       "      <td>SPORTS</td>\n",
       "      <td>P1727</td>\n",
       "      <td>Running Shoes</td>\n",
       "      <td>0</td>\n",
       "      <td>145,79</td>\n",
       "      <td>0,07</td>\n",
       "      <td>0,0</td>\n",
       "      <td>NaN</td>\n",
       "      <td>NaN</td>\n",
       "      <td>South</td>\n",
       "      <td>47.0</td>\n",
       "      <td>M</td>\n",
       "      <td>Desktop</td>\n",
       "      <td>23</td>\n",
       "      <td>NaN</td>\n",
       "      <td>Chrooome</td>\n",
       "      <td>PAID</td>\n",
       "    </tr>\n",
       "  </tbody>\n",
       "</table>\n",
       "</div>"
      ],
      "text/plain": [
       "     User Id Group  Visit Date  Conversion Product Category Product Id  \\\n",
       "126      127     B  23/01/2022           0           SPORTS      P1727   \n",
       "\n",
       "      Product Name  Quantity   Price Discount Total Value Payment Method  \\\n",
       "126  Running Shoes         0  145,79     0,07         0,0            NaN   \n",
       "\n",
       "    Shipping Method Region  Customer Age Customer Gender   Device  \\\n",
       "126             NaN  South          47.0               M  Desktop   \n",
       "\n",
       "     Session Duration Coupon Used   Browser Referral Source  \n",
       "126                23         NaN  Chrooome            PAID  "
      ]
     },
     "execution_count": 21,
     "metadata": {},
     "output_type": "execute_result"
    }
   ],
   "source": [
    "df_raw=pd.read_csv('../data/data_raw.csv')\n",
    "df_raw.sample()"
   ]
  },
  {
   "cell_type": "code",
   "execution_count": 22,
   "id": "5fcb9506",
   "metadata": {},
   "outputs": [],
   "source": [
    "df= df_raw"
   ]
  },
  {
   "cell_type": "markdown",
   "id": "c5e4b0b2",
   "metadata": {},
   "source": [
    "name changes columns"
   ]
  },
  {
   "cell_type": "code",
   "execution_count": 23,
   "id": "c39018b3",
   "metadata": {},
   "outputs": [
    {
     "data": {
      "text/plain": [
       "Index(['user_id', 'group', 'visit_date', 'conversion', 'product_category',\n",
       "       'product_id', 'product_name', 'quantity', 'price', 'discount',\n",
       "       'total_value', 'payment_method', 'shipping_method', 'region',\n",
       "       'customer_age', 'customer_gender', 'device', 'session_duration',\n",
       "       'coupon_used', 'browser', 'referral_source'],\n",
       "      dtype='object')"
      ]
     },
     "execution_count": 23,
     "metadata": {},
     "output_type": "execute_result"
    }
   ],
   "source": [
    "df.columns= df.columns.str.replace(\" \" , \"_\").str.lower()\n",
    "df.columns"
   ]
  },
  {
   "cell_type": "markdown",
   "id": "e8bcf9ad",
   "metadata": {},
   "source": [
    "visit_date\n"
   ]
  },
  {
   "cell_type": "code",
   "execution_count": 24,
   "id": "a71e0601",
   "metadata": {},
   "outputs": [],
   "source": [
    "df['visit_date']=pd.to_datetime(df['visit_date'], format= '%d/%m/%Y')"
   ]
  },
  {
   "cell_type": "markdown",
   "id": "43d365ee",
   "metadata": {},
   "source": [
    "create conversion str"
   ]
  },
  {
   "cell_type": "code",
   "execution_count": 25,
   "id": "72215c7f",
   "metadata": {},
   "outputs": [],
   "source": [
    "df['conversion_str']= df['conversion'].apply (lambda x : \"yes\" if x == 1 else \"no\")"
   ]
  },
  {
   "cell_type": "code",
   "execution_count": 26,
   "id": "7df37d5f",
   "metadata": {},
   "outputs": [
    {
     "data": {
      "text/html": [
       "<div>\n",
       "<style scoped>\n",
       "    .dataframe tbody tr th:only-of-type {\n",
       "        vertical-align: middle;\n",
       "    }\n",
       "\n",
       "    .dataframe tbody tr th {\n",
       "        vertical-align: top;\n",
       "    }\n",
       "\n",
       "    .dataframe thead th {\n",
       "        text-align: right;\n",
       "    }\n",
       "</style>\n",
       "<table border=\"1\" class=\"dataframe\">\n",
       "  <thead>\n",
       "    <tr style=\"text-align: right;\">\n",
       "      <th></th>\n",
       "      <th>conversion</th>\n",
       "      <th>conversion_str</th>\n",
       "    </tr>\n",
       "  </thead>\n",
       "  <tbody>\n",
       "    <tr>\n",
       "      <th>0</th>\n",
       "      <td>0</td>\n",
       "      <td>no</td>\n",
       "    </tr>\n",
       "    <tr>\n",
       "      <th>1</th>\n",
       "      <td>0</td>\n",
       "      <td>no</td>\n",
       "    </tr>\n",
       "    <tr>\n",
       "      <th>2</th>\n",
       "      <td>0</td>\n",
       "      <td>no</td>\n",
       "    </tr>\n",
       "    <tr>\n",
       "      <th>3</th>\n",
       "      <td>1</td>\n",
       "      <td>yes</td>\n",
       "    </tr>\n",
       "    <tr>\n",
       "      <th>4</th>\n",
       "      <td>0</td>\n",
       "      <td>no</td>\n",
       "    </tr>\n",
       "    <tr>\n",
       "      <th>...</th>\n",
       "      <td>...</td>\n",
       "      <td>...</td>\n",
       "    </tr>\n",
       "    <tr>\n",
       "      <th>1995</th>\n",
       "      <td>0</td>\n",
       "      <td>no</td>\n",
       "    </tr>\n",
       "    <tr>\n",
       "      <th>1996</th>\n",
       "      <td>0</td>\n",
       "      <td>no</td>\n",
       "    </tr>\n",
       "    <tr>\n",
       "      <th>1997</th>\n",
       "      <td>0</td>\n",
       "      <td>no</td>\n",
       "    </tr>\n",
       "    <tr>\n",
       "      <th>1998</th>\n",
       "      <td>0</td>\n",
       "      <td>no</td>\n",
       "    </tr>\n",
       "    <tr>\n",
       "      <th>1999</th>\n",
       "      <td>0</td>\n",
       "      <td>no</td>\n",
       "    </tr>\n",
       "  </tbody>\n",
       "</table>\n",
       "<p>2000 rows × 2 columns</p>\n",
       "</div>"
      ],
      "text/plain": [
       "      conversion conversion_str\n",
       "0              0             no\n",
       "1              0             no\n",
       "2              0             no\n",
       "3              1            yes\n",
       "4              0             no\n",
       "...          ...            ...\n",
       "1995           0             no\n",
       "1996           0             no\n",
       "1997           0             no\n",
       "1998           0             no\n",
       "1999           0             no\n",
       "\n",
       "[2000 rows x 2 columns]"
      ]
     },
     "execution_count": 26,
     "metadata": {},
     "output_type": "execute_result"
    }
   ],
   "source": [
    "df.loc[:,['conversion','conversion_str']]"
   ]
  },
  {
   "cell_type": "markdown",
   "id": "82df8aaf",
   "metadata": {},
   "source": [
    "change uppercase to lowercase and modify words "
   ]
  },
  {
   "cell_type": "code",
   "execution_count": 27,
   "id": "27037242",
   "metadata": {},
   "outputs": [],
   "source": [
    "df['product_category']= df['product_category'].str.lower()"
   ]
  },
  {
   "cell_type": "code",
   "execution_count": 28,
   "id": "a8213f38",
   "metadata": {},
   "outputs": [],
   "source": [
    "df['product_category']= df['product_category'].str.replace('fashhion','fashion')"
   ]
  },
  {
   "cell_type": "code",
   "execution_count": 29,
   "id": "58ba2fbd",
   "metadata": {},
   "outputs": [
    {
     "data": {
      "text/plain": [
       "array(['books', 'beauty', 'fashion', 'sports', 'toys', 'electronics',\n",
       "       'home'], dtype=object)"
      ]
     },
     "execution_count": 29,
     "metadata": {},
     "output_type": "execute_result"
    }
   ],
   "source": [
    "df['product_category'].unique()"
   ]
  },
  {
   "cell_type": "markdown",
   "id": "88b6049a",
   "metadata": {},
   "source": [
    "producto_ id"
   ]
  },
  {
   "cell_type": "code",
   "execution_count": 30,
   "id": "1fa16d43",
   "metadata": {},
   "outputs": [
    {
     "data": {
      "text/html": [
       "<div>\n",
       "<style scoped>\n",
       "    .dataframe tbody tr th:only-of-type {\n",
       "        vertical-align: middle;\n",
       "    }\n",
       "\n",
       "    .dataframe tbody tr th {\n",
       "        vertical-align: top;\n",
       "    }\n",
       "\n",
       "    .dataframe thead th {\n",
       "        text-align: right;\n",
       "    }\n",
       "</style>\n",
       "<table border=\"1\" class=\"dataframe\">\n",
       "  <thead>\n",
       "    <tr style=\"text-align: right;\">\n",
       "      <th></th>\n",
       "      <th>user_id</th>\n",
       "      <th>group</th>\n",
       "      <th>visit_date</th>\n",
       "      <th>conversion</th>\n",
       "      <th>product_category</th>\n",
       "      <th>product_id</th>\n",
       "      <th>product_name</th>\n",
       "      <th>quantity</th>\n",
       "      <th>price</th>\n",
       "      <th>discount</th>\n",
       "      <th>total_value</th>\n",
       "      <th>payment_method</th>\n",
       "      <th>shipping_method</th>\n",
       "      <th>region</th>\n",
       "      <th>customer_age</th>\n",
       "      <th>customer_gender</th>\n",
       "      <th>device</th>\n",
       "      <th>session_duration</th>\n",
       "      <th>coupon_used</th>\n",
       "      <th>browser</th>\n",
       "      <th>referral_source</th>\n",
       "      <th>conversion_str</th>\n",
       "    </tr>\n",
       "  </thead>\n",
       "  <tbody>\n",
       "    <tr>\n",
       "      <th>1742</th>\n",
       "      <td>1743</td>\n",
       "      <td>B</td>\n",
       "      <td>2022-03-19</td>\n",
       "      <td>0</td>\n",
       "      <td>books</td>\n",
       "      <td>P1451</td>\n",
       "      <td>Mystery</td>\n",
       "      <td>0</td>\n",
       "      <td>7,8</td>\n",
       "      <td>0,21</td>\n",
       "      <td>0,0</td>\n",
       "      <td>NaN</td>\n",
       "      <td>NaN</td>\n",
       "      <td>West</td>\n",
       "      <td>58.0</td>\n",
       "      <td>F</td>\n",
       "      <td>Mobile</td>\n",
       "      <td>13</td>\n",
       "      <td>NaN</td>\n",
       "      <td>Firefoxxxxxx</td>\n",
       "      <td>Social</td>\n",
       "      <td>no</td>\n",
       "    </tr>\n",
       "  </tbody>\n",
       "</table>\n",
       "</div>"
      ],
      "text/plain": [
       "      user_id group visit_date  conversion product_category product_id  \\\n",
       "1742     1743     B 2022-03-19           0            books      P1451   \n",
       "\n",
       "     product_name  quantity price discount total_value payment_method  \\\n",
       "1742      Mystery         0   7,8     0,21         0,0            NaN   \n",
       "\n",
       "     shipping_method region  customer_age customer_gender  device  \\\n",
       "1742             NaN   West          58.0               F  Mobile   \n",
       "\n",
       "      session_duration coupon_used       browser referral_source  \\\n",
       "1742                13         NaN  Firefoxxxxxx          Social   \n",
       "\n",
       "     conversion_str  \n",
       "1742             no  "
      ]
     },
     "execution_count": 30,
     "metadata": {},
     "output_type": "execute_result"
    }
   ],
   "source": [
    "df.sample()"
   ]
  },
  {
   "cell_type": "code",
   "execution_count": 31,
   "id": "9f55eec3",
   "metadata": {},
   "outputs": [],
   "source": [
    "df['product_id']= df['product_id'].str.replace('P','')"
   ]
  },
  {
   "cell_type": "code",
   "execution_count": 32,
   "id": "22bbd60e",
   "metadata": {},
   "outputs": [],
   "source": [
    "df['product_id']= df['product_id'].astype('int64')"
   ]
  },
  {
   "cell_type": "code",
   "execution_count": 33,
   "id": "4917991f",
   "metadata": {},
   "outputs": [
    {
     "name": "stdout",
     "output_type": "stream",
     "text": [
      "<class 'pandas.core.frame.DataFrame'>\n",
      "RangeIndex: 2000 entries, 0 to 1999\n",
      "Data columns (total 22 columns):\n",
      " #   Column            Non-Null Count  Dtype         \n",
      "---  ------            --------------  -----         \n",
      " 0   user_id           2000 non-null   int64         \n",
      " 1   group             2000 non-null   object        \n",
      " 2   visit_date        2000 non-null   datetime64[ns]\n",
      " 3   conversion        2000 non-null   int64         \n",
      " 4   product_category  2000 non-null   object        \n",
      " 5   product_id        2000 non-null   int64         \n",
      " 6   product_name      2000 non-null   object        \n",
      " 7   quantity          2000 non-null   int64         \n",
      " 8   price             1960 non-null   object        \n",
      " 9   discount          1960 non-null   object        \n",
      " 10  total_value       2000 non-null   object        \n",
      " 11  payment_method    247 non-null    object        \n",
      " 12  shipping_method   247 non-null    object        \n",
      " 13  region            2000 non-null   object        \n",
      " 14  customer_age      1960 non-null   float64       \n",
      " 15  customer_gender   2000 non-null   object        \n",
      " 16  device            2000 non-null   object        \n",
      " 17  session_duration  2000 non-null   int64         \n",
      " 18  coupon_used       247 non-null    object        \n",
      " 19  browser           2000 non-null   object        \n",
      " 20  referral_source   2000 non-null   object        \n",
      " 21  conversion_str    2000 non-null   object        \n",
      "dtypes: datetime64[ns](1), float64(1), int64(5), object(15)\n",
      "memory usage: 343.9+ KB\n"
     ]
    }
   ],
   "source": [
    "df.info()"
   ]
  },
  {
   "cell_type": "markdown",
   "id": "9b902a97",
   "metadata": {},
   "source": [
    "producto_name"
   ]
  },
  {
   "cell_type": "code",
   "execution_count": 34,
   "id": "8f1006cc",
   "metadata": {},
   "outputs": [],
   "source": [
    "df['product_name']= df['product_name'].str.replace(' ','_')"
   ]
  },
  {
   "cell_type": "code",
   "execution_count": 35,
   "id": "cfaa4837",
   "metadata": {},
   "outputs": [],
   "source": [
    "def lower(df):\n",
    "    \n",
    "    for col in df.select_dtypes(include='O').columns:\n",
    "        df[col]=df[col].str.lower()\n",
    "    "
   ]
  },
  {
   "cell_type": "code",
   "execution_count": 36,
   "id": "f9ff9cba",
   "metadata": {},
   "outputs": [],
   "source": [
    "lower(df)"
   ]
  },
  {
   "cell_type": "code",
   "execution_count": null,
   "id": "760278b5",
   "metadata": {},
   "outputs": [],
   "source": [
    "#src_eda.lower(df,'product_name')"
   ]
  },
  {
   "cell_type": "markdown",
   "id": "87ed8ebc",
   "metadata": {},
   "source": [
    "price"
   ]
  },
  {
   "cell_type": "code",
   "execution_count": 38,
   "id": "1ef758a7",
   "metadata": {},
   "outputs": [],
   "source": [
    "df['price']= df['price'].str.replace(',','.')"
   ]
  },
  {
   "cell_type": "code",
   "execution_count": 39,
   "id": "61dc0cc1",
   "metadata": {},
   "outputs": [],
   "source": [
    "def comma (df):\n",
    "    for col in df.select_dtypes(include='O').columns:\n",
    "        df[col]=df[col].str.replace(',','.')\n",
    "        try:\n",
    "            df[col]= df[col]. astype('float64')\n",
    "        except:\n",
    "            pass\n",
    "        \n",
    "    "
   ]
  },
  {
   "cell_type": "code",
   "execution_count": 40,
   "id": "abb82424",
   "metadata": {},
   "outputs": [],
   "source": [
    "comma(df)"
   ]
  },
  {
   "cell_type": "code",
   "execution_count": 41,
   "id": "3e50e09a",
   "metadata": {},
   "outputs": [
    {
     "data": {
      "text/html": [
       "<div>\n",
       "<style scoped>\n",
       "    .dataframe tbody tr th:only-of-type {\n",
       "        vertical-align: middle;\n",
       "    }\n",
       "\n",
       "    .dataframe tbody tr th {\n",
       "        vertical-align: top;\n",
       "    }\n",
       "\n",
       "    .dataframe thead th {\n",
       "        text-align: right;\n",
       "    }\n",
       "</style>\n",
       "<table border=\"1\" class=\"dataframe\">\n",
       "  <thead>\n",
       "    <tr style=\"text-align: right;\">\n",
       "      <th></th>\n",
       "      <th>user_id</th>\n",
       "      <th>group</th>\n",
       "      <th>visit_date</th>\n",
       "      <th>conversion</th>\n",
       "      <th>product_category</th>\n",
       "      <th>product_id</th>\n",
       "      <th>product_name</th>\n",
       "      <th>quantity</th>\n",
       "      <th>price</th>\n",
       "      <th>discount</th>\n",
       "      <th>total_value</th>\n",
       "      <th>payment_method</th>\n",
       "      <th>shipping_method</th>\n",
       "      <th>region</th>\n",
       "      <th>customer_age</th>\n",
       "      <th>customer_gender</th>\n",
       "      <th>device</th>\n",
       "      <th>session_duration</th>\n",
       "      <th>coupon_used</th>\n",
       "      <th>browser</th>\n",
       "      <th>referral_source</th>\n",
       "      <th>conversion_str</th>\n",
       "    </tr>\n",
       "  </thead>\n",
       "  <tbody>\n",
       "    <tr>\n",
       "      <th>565</th>\n",
       "      <td>566</td>\n",
       "      <td>b</td>\n",
       "      <td>2022-03-09</td>\n",
       "      <td>0</td>\n",
       "      <td>toys</td>\n",
       "      <td>1200</td>\n",
       "      <td>board_game</td>\n",
       "      <td>0</td>\n",
       "      <td>85.14</td>\n",
       "      <td>0.04</td>\n",
       "      <td>0.00</td>\n",
       "      <td>NaN</td>\n",
       "      <td>NaN</td>\n",
       "      <td>west</td>\n",
       "      <td>40.0</td>\n",
       "      <td>f</td>\n",
       "      <td>desktop</td>\n",
       "      <td>20</td>\n",
       "      <td>NaN</td>\n",
       "      <td>eddddge</td>\n",
       "      <td>paid</td>\n",
       "      <td>no</td>\n",
       "    </tr>\n",
       "    <tr>\n",
       "      <th>74</th>\n",
       "      <td>75</td>\n",
       "      <td>b</td>\n",
       "      <td>2022-03-11</td>\n",
       "      <td>0</td>\n",
       "      <td>toys</td>\n",
       "      <td>1368</td>\n",
       "      <td>doll</td>\n",
       "      <td>0</td>\n",
       "      <td>34.33</td>\n",
       "      <td>0.01</td>\n",
       "      <td>0.00</td>\n",
       "      <td>NaN</td>\n",
       "      <td>NaN</td>\n",
       "      <td>central</td>\n",
       "      <td>65.0</td>\n",
       "      <td>m</td>\n",
       "      <td>mobile</td>\n",
       "      <td>30</td>\n",
       "      <td>NaN</td>\n",
       "      <td>eddddge</td>\n",
       "      <td>email</td>\n",
       "      <td>no</td>\n",
       "    </tr>\n",
       "    <tr>\n",
       "      <th>791</th>\n",
       "      <td>792</td>\n",
       "      <td>b</td>\n",
       "      <td>2022-02-03</td>\n",
       "      <td>0</td>\n",
       "      <td>sports</td>\n",
       "      <td>1957</td>\n",
       "      <td>tennis_racket</td>\n",
       "      <td>0</td>\n",
       "      <td>113.69</td>\n",
       "      <td>0.14</td>\n",
       "      <td>0.00</td>\n",
       "      <td>NaN</td>\n",
       "      <td>NaN</td>\n",
       "      <td>east</td>\n",
       "      <td>54.0</td>\n",
       "      <td>m</td>\n",
       "      <td>desktop</td>\n",
       "      <td>23</td>\n",
       "      <td>NaN</td>\n",
       "      <td>eddddge</td>\n",
       "      <td>organic</td>\n",
       "      <td>no</td>\n",
       "    </tr>\n",
       "    <tr>\n",
       "      <th>889</th>\n",
       "      <td>890</td>\n",
       "      <td>a</td>\n",
       "      <td>2022-02-18</td>\n",
       "      <td>0</td>\n",
       "      <td>home</td>\n",
       "      <td>1531</td>\n",
       "      <td>lamp</td>\n",
       "      <td>0</td>\n",
       "      <td>280.08</td>\n",
       "      <td>0.11</td>\n",
       "      <td>0.00</td>\n",
       "      <td>NaN</td>\n",
       "      <td>NaN</td>\n",
       "      <td>south</td>\n",
       "      <td>66.0</td>\n",
       "      <td>f</td>\n",
       "      <td>desktop</td>\n",
       "      <td>14</td>\n",
       "      <td>NaN</td>\n",
       "      <td>firefoxxxxxx</td>\n",
       "      <td>email</td>\n",
       "      <td>no</td>\n",
       "    </tr>\n",
       "    <tr>\n",
       "      <th>376</th>\n",
       "      <td>377</td>\n",
       "      <td>b</td>\n",
       "      <td>2022-01-20</td>\n",
       "      <td>0</td>\n",
       "      <td>fashion</td>\n",
       "      <td>1440</td>\n",
       "      <td>sneakers</td>\n",
       "      <td>0</td>\n",
       "      <td>162.79</td>\n",
       "      <td>0.20</td>\n",
       "      <td>0.00</td>\n",
       "      <td>NaN</td>\n",
       "      <td>NaN</td>\n",
       "      <td>south</td>\n",
       "      <td>65.0</td>\n",
       "      <td>f</td>\n",
       "      <td>desktop</td>\n",
       "      <td>28</td>\n",
       "      <td>NaN</td>\n",
       "      <td>ottttther</td>\n",
       "      <td>paid</td>\n",
       "      <td>no</td>\n",
       "    </tr>\n",
       "    <tr>\n",
       "      <th>1508</th>\n",
       "      <td>1509</td>\n",
       "      <td>b</td>\n",
       "      <td>2022-02-22</td>\n",
       "      <td>0</td>\n",
       "      <td>fashion</td>\n",
       "      <td>1060</td>\n",
       "      <td>jeans</td>\n",
       "      <td>0</td>\n",
       "      <td>166.37</td>\n",
       "      <td>0.17</td>\n",
       "      <td>0.00</td>\n",
       "      <td>NaN</td>\n",
       "      <td>NaN</td>\n",
       "      <td>north</td>\n",
       "      <td>23.0</td>\n",
       "      <td>f</td>\n",
       "      <td>mobile</td>\n",
       "      <td>9</td>\n",
       "      <td>NaN</td>\n",
       "      <td>firefoxxxxxx</td>\n",
       "      <td>email</td>\n",
       "      <td>no</td>\n",
       "    </tr>\n",
       "    <tr>\n",
       "      <th>618</th>\n",
       "      <td>619</td>\n",
       "      <td>b</td>\n",
       "      <td>2022-01-18</td>\n",
       "      <td>0</td>\n",
       "      <td>beauty</td>\n",
       "      <td>1680</td>\n",
       "      <td>lipstick</td>\n",
       "      <td>0</td>\n",
       "      <td>14.13</td>\n",
       "      <td>0.12</td>\n",
       "      <td>0.00</td>\n",
       "      <td>NaN</td>\n",
       "      <td>NaN</td>\n",
       "      <td>central</td>\n",
       "      <td>18.0</td>\n",
       "      <td>m</td>\n",
       "      <td>mobile</td>\n",
       "      <td>3</td>\n",
       "      <td>NaN</td>\n",
       "      <td>safaaaaari</td>\n",
       "      <td>social</td>\n",
       "      <td>no</td>\n",
       "    </tr>\n",
       "    <tr>\n",
       "      <th>1327</th>\n",
       "      <td>1328</td>\n",
       "      <td>b</td>\n",
       "      <td>2022-02-17</td>\n",
       "      <td>0</td>\n",
       "      <td>sports</td>\n",
       "      <td>1542</td>\n",
       "      <td>running_shoes</td>\n",
       "      <td>0</td>\n",
       "      <td>59.12</td>\n",
       "      <td>0.08</td>\n",
       "      <td>0.00</td>\n",
       "      <td>NaN</td>\n",
       "      <td>NaN</td>\n",
       "      <td>north</td>\n",
       "      <td>54.0</td>\n",
       "      <td>m</td>\n",
       "      <td>mobile</td>\n",
       "      <td>23</td>\n",
       "      <td>NaN</td>\n",
       "      <td>safaaaaari</td>\n",
       "      <td>social</td>\n",
       "      <td>no</td>\n",
       "    </tr>\n",
       "    <tr>\n",
       "      <th>1199</th>\n",
       "      <td>1200</td>\n",
       "      <td>a</td>\n",
       "      <td>2022-02-14</td>\n",
       "      <td>0</td>\n",
       "      <td>sports</td>\n",
       "      <td>1859</td>\n",
       "      <td>gym_bag</td>\n",
       "      <td>0</td>\n",
       "      <td>242.40</td>\n",
       "      <td>0.05</td>\n",
       "      <td>0.00</td>\n",
       "      <td>NaN</td>\n",
       "      <td>NaN</td>\n",
       "      <td>south</td>\n",
       "      <td>35.0</td>\n",
       "      <td>f</td>\n",
       "      <td>tablet</td>\n",
       "      <td>13</td>\n",
       "      <td>NaN</td>\n",
       "      <td>firefoxxxxxx</td>\n",
       "      <td>social</td>\n",
       "      <td>no</td>\n",
       "    </tr>\n",
       "    <tr>\n",
       "      <th>500</th>\n",
       "      <td>501</td>\n",
       "      <td>b</td>\n",
       "      <td>2022-03-18</td>\n",
       "      <td>1</td>\n",
       "      <td>electronics</td>\n",
       "      <td>1541</td>\n",
       "      <td>smartphone</td>\n",
       "      <td>3</td>\n",
       "      <td>547.73</td>\n",
       "      <td>0.16</td>\n",
       "      <td>1380.28</td>\n",
       "      <td>paypal</td>\n",
       "      <td>express</td>\n",
       "      <td>west</td>\n",
       "      <td>47.0</td>\n",
       "      <td>m</td>\n",
       "      <td>mobile</td>\n",
       "      <td>13</td>\n",
       "      <td>no</td>\n",
       "      <td>eddddge</td>\n",
       "      <td>organic</td>\n",
       "      <td>yes</td>\n",
       "    </tr>\n",
       "  </tbody>\n",
       "</table>\n",
       "</div>"
      ],
      "text/plain": [
       "      user_id group visit_date  conversion product_category  product_id  \\\n",
       "565       566     b 2022-03-09           0             toys        1200   \n",
       "74         75     b 2022-03-11           0             toys        1368   \n",
       "791       792     b 2022-02-03           0           sports        1957   \n",
       "889       890     a 2022-02-18           0             home        1531   \n",
       "376       377     b 2022-01-20           0          fashion        1440   \n",
       "1508     1509     b 2022-02-22           0          fashion        1060   \n",
       "618       619     b 2022-01-18           0           beauty        1680   \n",
       "1327     1328     b 2022-02-17           0           sports        1542   \n",
       "1199     1200     a 2022-02-14           0           sports        1859   \n",
       "500       501     b 2022-03-18           1      electronics        1541   \n",
       "\n",
       "       product_name  quantity   price  discount  total_value payment_method  \\\n",
       "565      board_game         0   85.14      0.04         0.00            NaN   \n",
       "74             doll         0   34.33      0.01         0.00            NaN   \n",
       "791   tennis_racket         0  113.69      0.14         0.00            NaN   \n",
       "889            lamp         0  280.08      0.11         0.00            NaN   \n",
       "376        sneakers         0  162.79      0.20         0.00            NaN   \n",
       "1508          jeans         0  166.37      0.17         0.00            NaN   \n",
       "618        lipstick         0   14.13      0.12         0.00            NaN   \n",
       "1327  running_shoes         0   59.12      0.08         0.00            NaN   \n",
       "1199        gym_bag         0  242.40      0.05         0.00            NaN   \n",
       "500      smartphone         3  547.73      0.16      1380.28         paypal   \n",
       "\n",
       "     shipping_method   region  customer_age customer_gender   device  \\\n",
       "565              NaN     west          40.0               f  desktop   \n",
       "74               NaN  central          65.0               m   mobile   \n",
       "791              NaN     east          54.0               m  desktop   \n",
       "889              NaN    south          66.0               f  desktop   \n",
       "376              NaN    south          65.0               f  desktop   \n",
       "1508             NaN    north          23.0               f   mobile   \n",
       "618              NaN  central          18.0               m   mobile   \n",
       "1327             NaN    north          54.0               m   mobile   \n",
       "1199             NaN    south          35.0               f   tablet   \n",
       "500          express     west          47.0               m   mobile   \n",
       "\n",
       "      session_duration coupon_used       browser referral_source  \\\n",
       "565                 20         NaN       eddddge            paid   \n",
       "74                  30         NaN       eddddge           email   \n",
       "791                 23         NaN       eddddge         organic   \n",
       "889                 14         NaN  firefoxxxxxx           email   \n",
       "376                 28         NaN     ottttther            paid   \n",
       "1508                 9         NaN  firefoxxxxxx           email   \n",
       "618                  3         NaN    safaaaaari          social   \n",
       "1327                23         NaN    safaaaaari          social   \n",
       "1199                13         NaN  firefoxxxxxx          social   \n",
       "500                 13          no       eddddge         organic   \n",
       "\n",
       "     conversion_str  \n",
       "565              no  \n",
       "74               no  \n",
       "791              no  \n",
       "889              no  \n",
       "376              no  \n",
       "1508             no  \n",
       "618              no  \n",
       "1327             no  \n",
       "1199             no  \n",
       "500             yes  "
      ]
     },
     "execution_count": 41,
     "metadata": {},
     "output_type": "execute_result"
    }
   ],
   "source": [
    "df.sample(10)"
   ]
  },
  {
   "cell_type": "code",
   "execution_count": 42,
   "id": "5edf5f40",
   "metadata": {},
   "outputs": [
    {
     "name": "stdout",
     "output_type": "stream",
     "text": [
      "<class 'pandas.core.frame.DataFrame'>\n",
      "RangeIndex: 2000 entries, 0 to 1999\n",
      "Data columns (total 22 columns):\n",
      " #   Column            Non-Null Count  Dtype         \n",
      "---  ------            --------------  -----         \n",
      " 0   user_id           2000 non-null   int64         \n",
      " 1   group             2000 non-null   object        \n",
      " 2   visit_date        2000 non-null   datetime64[ns]\n",
      " 3   conversion        2000 non-null   int64         \n",
      " 4   product_category  2000 non-null   object        \n",
      " 5   product_id        2000 non-null   int64         \n",
      " 6   product_name      2000 non-null   object        \n",
      " 7   quantity          2000 non-null   int64         \n",
      " 8   price             1960 non-null   float64       \n",
      " 9   discount          1960 non-null   float64       \n",
      " 10  total_value       2000 non-null   float64       \n",
      " 11  payment_method    247 non-null    object        \n",
      " 12  shipping_method   247 non-null    object        \n",
      " 13  region            2000 non-null   object        \n",
      " 14  customer_age      1960 non-null   float64       \n",
      " 15  customer_gender   2000 non-null   object        \n",
      " 16  device            2000 non-null   object        \n",
      " 17  session_duration  2000 non-null   int64         \n",
      " 18  coupon_used       247 non-null    object        \n",
      " 19  browser           2000 non-null   object        \n",
      " 20  referral_source   2000 non-null   object        \n",
      " 21  conversion_str    2000 non-null   object        \n",
      "dtypes: datetime64[ns](1), float64(4), int64(5), object(12)\n",
      "memory usage: 343.9+ KB\n"
     ]
    }
   ],
   "source": [
    "df.info()"
   ]
  },
  {
   "cell_type": "code",
   "execution_count": 43,
   "id": "5540afb4",
   "metadata": {},
   "outputs": [],
   "source": [
    "def replace_space (df):\n",
    "    for col in df.select_dtypes(include='O').columns:\n",
    "        df[col]=df[col].str.replace(' ','_')"
   ]
  },
  {
   "cell_type": "code",
   "execution_count": 44,
   "id": "9004415c",
   "metadata": {},
   "outputs": [],
   "source": [
    "replace_space(df)"
   ]
  },
  {
   "cell_type": "markdown",
   "id": "c4ddcd2d",
   "metadata": {},
   "source": [
    "referral_source"
   ]
  },
  {
   "cell_type": "code",
   "execution_count": 45,
   "id": "43e9ec70",
   "metadata": {},
   "outputs": [
    {
     "data": {
      "text/plain": [
       "array(['safaaaaari', 'ottttther', 'firefoxxxxxx', 'eddddge', 'chrooome'],\n",
       "      dtype=object)"
      ]
     },
     "execution_count": 45,
     "metadata": {},
     "output_type": "execute_result"
    }
   ],
   "source": [
    "df['browser'].unique()"
   ]
  },
  {
   "cell_type": "code",
   "execution_count": 46,
   "id": "3f090c98",
   "metadata": {},
   "outputs": [],
   "source": [
    "dicc_map={'safaaaaari':'safari',\n",
    "          'ottttther':'other', \n",
    "          'firefoxxxxxx':'firefox', \n",
    "          'eddddge':'edge',\n",
    "          'chrooome':'chrome'}"
   ]
  },
  {
   "cell_type": "code",
   "execution_count": 47,
   "id": "1197001b",
   "metadata": {},
   "outputs": [],
   "source": [
    "df['browser']= df['browser'].map(dicc_map)"
   ]
  },
  {
   "cell_type": "code",
   "execution_count": 48,
   "id": "529c899d",
   "metadata": {},
   "outputs": [
    {
     "data": {
      "text/plain": [
       "array(['safari', 'other', 'firefox', 'edge', 'chrome'], dtype=object)"
      ]
     },
     "execution_count": 48,
     "metadata": {},
     "output_type": "execute_result"
    }
   ],
   "source": [
    "df['browser'].unique()"
   ]
  },
  {
   "cell_type": "code",
   "execution_count": 49,
   "id": "eecc2676",
   "metadata": {},
   "outputs": [],
   "source": [
    "df.to_csv('../data/clean_data.csv', index= False)"
   ]
  }
 ],
 "metadata": {
  "kernelspec": {
   "display_name": ".venv (3.13.2)",
   "language": "python",
   "name": "python3"
  },
  "language_info": {
   "codemirror_mode": {
    "name": "ipython",
    "version": 3
   },
   "file_extension": ".py",
   "mimetype": "text/x-python",
   "name": "python",
   "nbconvert_exporter": "python",
   "pygments_lexer": "ipython3",
   "version": "3.13.2"
  }
 },
 "nbformat": 4,
 "nbformat_minor": 5
}
