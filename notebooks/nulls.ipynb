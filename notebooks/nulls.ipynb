{
 "cells": [
  {
   "cell_type": "code",
   "execution_count": 33,
   "id": "d98be1e9",
   "metadata": {},
   "outputs": [],
   "source": [
    "import pandas as pd\n",
    "#how many columns you want to see\n",
    "pd.set_option('display.max_columns',None)\n",
    "import matplotlib.pyplot as plt\n",
    "import seaborn as sns"
   ]
  },
  {
   "cell_type": "code",
   "execution_count": 28,
   "id": "8b1f8d25",
   "metadata": {},
   "outputs": [],
   "source": [
    "#read csv\n",
    "\n",
    "df_o=pd.read_csv('../data/clean_data.csv')"
   ]
  },
  {
   "cell_type": "code",
   "execution_count": 29,
   "id": "0d3962a2",
   "metadata": {},
   "outputs": [],
   "source": [
    "#copy\n",
    "df= df_o.copy()"
   ]
  },
  {
   "cell_type": "code",
   "execution_count": 30,
   "id": "9775d673",
   "metadata": {},
   "outputs": [
    {
     "data": {
      "text/plain": [
       "user_id              0.00\n",
       "group                0.00\n",
       "visit_date           0.00\n",
       "conversion           0.00\n",
       "product_category     0.00\n",
       "product_id           0.00\n",
       "product_name         0.00\n",
       "quantity             0.00\n",
       "price                2.00\n",
       "discount             2.00\n",
       "total_value          0.00\n",
       "payment_method      87.65\n",
       "shipping_method     87.65\n",
       "region               0.00\n",
       "customer_age         2.00\n",
       "customer_gender      0.00\n",
       "device               0.00\n",
       "session_duration     0.00\n",
       "coupon_used         87.65\n",
       "browser              0.00\n",
       "referral_source      0.00\n",
       "conversion_str       0.00\n",
       "dtype: float64"
      ]
     },
     "execution_count": 30,
     "metadata": {},
     "output_type": "execute_result"
    }
   ],
   "source": [
    "#% nulls\n",
    "df.isnull().mean()*100"
   ]
  },
  {
   "cell_type": "code",
   "execution_count": 31,
   "id": "85551434",
   "metadata": {},
   "outputs": [
    {
     "data": {
      "text/html": [
       "<div>\n",
       "<style scoped>\n",
       "    .dataframe tbody tr th:only-of-type {\n",
       "        vertical-align: middle;\n",
       "    }\n",
       "\n",
       "    .dataframe tbody tr th {\n",
       "        vertical-align: top;\n",
       "    }\n",
       "\n",
       "    .dataframe thead th {\n",
       "        text-align: right;\n",
       "    }\n",
       "</style>\n",
       "<table border=\"1\" class=\"dataframe\">\n",
       "  <thead>\n",
       "    <tr style=\"text-align: right;\">\n",
       "      <th></th>\n",
       "      <th>price</th>\n",
       "      <th>discount</th>\n",
       "      <th>payment_method</th>\n",
       "      <th>shipping_method</th>\n",
       "      <th>customer_age</th>\n",
       "      <th>coupon_used</th>\n",
       "    </tr>\n",
       "  </thead>\n",
       "  <tbody>\n",
       "    <tr>\n",
       "      <th>0</th>\n",
       "      <td>41.27</td>\n",
       "      <td>0.29</td>\n",
       "      <td>NaN</td>\n",
       "      <td>NaN</td>\n",
       "      <td>64.0</td>\n",
       "      <td>NaN</td>\n",
       "    </tr>\n",
       "    <tr>\n",
       "      <th>1</th>\n",
       "      <td>45.45</td>\n",
       "      <td>0.22</td>\n",
       "      <td>NaN</td>\n",
       "      <td>NaN</td>\n",
       "      <td>19.0</td>\n",
       "      <td>NaN</td>\n",
       "    </tr>\n",
       "    <tr>\n",
       "      <th>2</th>\n",
       "      <td>64.81</td>\n",
       "      <td>0.08</td>\n",
       "      <td>NaN</td>\n",
       "      <td>NaN</td>\n",
       "      <td>69.0</td>\n",
       "      <td>NaN</td>\n",
       "    </tr>\n",
       "    <tr>\n",
       "      <th>3</th>\n",
       "      <td>189.40</td>\n",
       "      <td>0.08</td>\n",
       "      <td>credit_card</td>\n",
       "      <td>express</td>\n",
       "      <td>53.0</td>\n",
       "      <td>no</td>\n",
       "    </tr>\n",
       "    <tr>\n",
       "      <th>4</th>\n",
       "      <td>19.82</td>\n",
       "      <td>0.19</td>\n",
       "      <td>NaN</td>\n",
       "      <td>NaN</td>\n",
       "      <td>18.0</td>\n",
       "      <td>NaN</td>\n",
       "    </tr>\n",
       "    <tr>\n",
       "      <th>...</th>\n",
       "      <td>...</td>\n",
       "      <td>...</td>\n",
       "      <td>...</td>\n",
       "      <td>...</td>\n",
       "      <td>...</td>\n",
       "      <td>...</td>\n",
       "    </tr>\n",
       "    <tr>\n",
       "      <th>1995</th>\n",
       "      <td>177.49</td>\n",
       "      <td>0.20</td>\n",
       "      <td>NaN</td>\n",
       "      <td>NaN</td>\n",
       "      <td>25.0</td>\n",
       "      <td>NaN</td>\n",
       "    </tr>\n",
       "    <tr>\n",
       "      <th>1996</th>\n",
       "      <td>109.75</td>\n",
       "      <td>0.20</td>\n",
       "      <td>NaN</td>\n",
       "      <td>NaN</td>\n",
       "      <td>58.0</td>\n",
       "      <td>NaN</td>\n",
       "    </tr>\n",
       "    <tr>\n",
       "      <th>1997</th>\n",
       "      <td>236.05</td>\n",
       "      <td>0.15</td>\n",
       "      <td>NaN</td>\n",
       "      <td>NaN</td>\n",
       "      <td>62.0</td>\n",
       "      <td>NaN</td>\n",
       "    </tr>\n",
       "    <tr>\n",
       "      <th>1998</th>\n",
       "      <td>22.67</td>\n",
       "      <td>0.11</td>\n",
       "      <td>NaN</td>\n",
       "      <td>NaN</td>\n",
       "      <td>46.0</td>\n",
       "      <td>NaN</td>\n",
       "    </tr>\n",
       "    <tr>\n",
       "      <th>1999</th>\n",
       "      <td>47.05</td>\n",
       "      <td>0.22</td>\n",
       "      <td>NaN</td>\n",
       "      <td>NaN</td>\n",
       "      <td>37.0</td>\n",
       "      <td>NaN</td>\n",
       "    </tr>\n",
       "  </tbody>\n",
       "</table>\n",
       "<p>2000 rows × 6 columns</p>\n",
       "</div>"
      ],
      "text/plain": [
       "       price  discount payment_method shipping_method  customer_age  \\\n",
       "0      41.27      0.29            NaN             NaN          64.0   \n",
       "1      45.45      0.22            NaN             NaN          19.0   \n",
       "2      64.81      0.08            NaN             NaN          69.0   \n",
       "3     189.40      0.08    credit_card         express          53.0   \n",
       "4      19.82      0.19            NaN             NaN          18.0   \n",
       "...      ...       ...            ...             ...           ...   \n",
       "1995  177.49      0.20            NaN             NaN          25.0   \n",
       "1996  109.75      0.20            NaN             NaN          58.0   \n",
       "1997  236.05      0.15            NaN             NaN          62.0   \n",
       "1998   22.67      0.11            NaN             NaN          46.0   \n",
       "1999   47.05      0.22            NaN             NaN          37.0   \n",
       "\n",
       "     coupon_used  \n",
       "0            NaN  \n",
       "1            NaN  \n",
       "2            NaN  \n",
       "3             no  \n",
       "4            NaN  \n",
       "...          ...  \n",
       "1995         NaN  \n",
       "1996         NaN  \n",
       "1997         NaN  \n",
       "1998         NaN  \n",
       "1999         NaN  \n",
       "\n",
       "[2000 rows x 6 columns]"
      ]
     },
     "execution_count": 31,
     "metadata": {},
     "output_type": "execute_result"
    }
   ],
   "source": [
    "#dataframe with nulls only\n",
    "df_null= df.loc[:,df.isnull().sum()>0]\n",
    "df_null"
   ]
  },
  {
   "cell_type": "markdown",
   "id": "6740da57",
   "metadata": {},
   "source": [
    "categorical nulls"
   ]
  },
  {
   "cell_type": "code",
   "execution_count": 32,
   "id": "23eb6ec4",
   "metadata": {},
   "outputs": [
    {
     "name": "stdout",
     "output_type": "stream",
     "text": [
      "PAYMENT_METHOD\n"
     ]
    },
    {
     "data": {
      "text/plain": [
       "payment_method\n",
       "bank_transfer       3.65\n",
       "credit_card         3.35\n",
       "paypal              2.85\n",
       "cash_on_delivery    2.50\n",
       "Name: count, dtype: float64"
      ]
     },
     "metadata": {},
     "output_type": "display_data"
    },
    {
     "name": "stdout",
     "output_type": "stream",
     "text": [
      "__________\n",
      "SHIPPING_METHOD\n"
     ]
    },
    {
     "data": {
      "text/plain": [
       "shipping_method\n",
       "express     4.50\n",
       "same_day    4.10\n",
       "standard    3.75\n",
       "Name: count, dtype: float64"
      ]
     },
     "metadata": {},
     "output_type": "display_data"
    },
    {
     "name": "stdout",
     "output_type": "stream",
     "text": [
      "__________\n",
      "COUPON_USED\n"
     ]
    },
    {
     "data": {
      "text/plain": [
       "coupon_used\n",
       "no     6.60\n",
       "yes    5.75\n",
       "Name: count, dtype: float64"
      ]
     },
     "metadata": {},
     "output_type": "display_data"
    },
    {
     "name": "stdout",
     "output_type": "stream",
     "text": [
      "__________\n"
     ]
    }
   ],
   "source": [
    "for col in df_null.select_dtypes(include='O').columns:\n",
    "    print(col.upper())\n",
    "    display(df[col].value_counts()/df.shape[0]*100)\n",
    "    print('__________')\n"
   ]
  },
  {
   "cell_type": "code",
   "execution_count": 39,
   "id": "559d4f5c",
   "metadata": {},
   "outputs": [],
   "source": [
    "def subplot_col_cat(dataframe):\n",
    "    # select columns categoric\n",
    "    categorica_col=dataframe.select_dtypes(include=['O','category']).columns\n",
    "    \n",
    "    if len(categorica_col)== 0:\n",
    "\n",
    "        return \"there are no categorical columns\"\n",
    "    # size figuer\n",
    "    \n",
    "    num_cols= len(categorica_col)\n",
    "    rows= (num_cols + 2)//3 # calculation to put 3 columns per row\n",
    "    fig, axes= plt.subplots(rows,3,figsize=(15, rows*5))\n",
    "    axes= axes.flatten()# convert the axes to a flat 1d array for iteration\n",
    "    \n",
    "    ##create graph for categorical\n",
    "    \n",
    "    for i, col in  enumerate(categorica_col):\n",
    "        sns.countplot(data=dataframe,x= col,ax=axes[i],hue=col,palette=\"tab10\",legend=False)\n",
    "        axes[i].set_title(f'distribuction the {col}')\n",
    "        axes[i].set_xlabel(col)\n",
    "        axes[i].set_ylabel('Frequence')\n",
    "        axes[i].tick_params(axis='x',rotation=90)\n",
    "    #remove excess axles\n",
    "    for j in range (i+ 1, len(axes)):\n",
    "        fig.delaxes(axes[j])\n",
    "    #adjust design\n",
    "    plt.tight_layout()\n",
    "    plt.show\n",
    "    "
   ]
  },
  {
   "cell_type": "code",
   "execution_count": 40,
   "id": "b83765c7",
   "metadata": {},
   "outputs": [
    {
     "data": {
      "image/png": "[encoded data removed]",
      "text/plain": [
       "<Figure size 1500x500 with 3 Axes>"
      ]
     },
     "metadata": {},
     "output_type": "display_data"
    }
   ],
   "source": [
    "subplot_col_cat(df_null)"
   ]
  },
  {
   "cell_type": "code",
   "execution_count": 41,
   "id": "889d34df",
   "metadata": {},
   "outputs": [
    {
     "data": {
      "text/plain": [
       "payment_method     87.65\n",
       "shipping_method    87.65\n",
       "coupon_used        87.65\n",
       "dtype: float64"
      ]
     },
     "execution_count": 41,
     "metadata": {},
     "output_type": "execute_result"
    }
   ],
   "source": [
    "df_null.select_dtypes(include='O').isnull().mean()*100"
   ]
  },
  {
   "cell_type": "code",
   "execution_count": 44,
   "id": "fed0d020",
   "metadata": {},
   "outputs": [
    {
     "data": {
      "text/plain": [
       "user_id               0.000000\n",
       "group                 0.000000\n",
       "visit_date            0.000000\n",
       "conversion            0.000000\n",
       "product_category      0.000000\n",
       "product_id            0.000000\n",
       "product_name          0.000000\n",
       "quantity              0.000000\n",
       "price                 1.711352\n",
       "discount              1.939532\n",
       "total_value           0.000000\n",
       "payment_method      100.000000\n",
       "shipping_method     100.000000\n",
       "region                0.000000\n",
       "customer_age          2.110667\n",
       "customer_gender       0.000000\n",
       "device                0.000000\n",
       "session_duration      0.000000\n",
       "coupon_used         100.000000\n",
       "browser               0.000000\n",
       "referral_source       0.000000\n",
       "conversion_str        0.000000\n",
       "dtype: float64"
      ]
     },
     "execution_count": 44,
     "metadata": {},
     "output_type": "execute_result"
    }
   ],
   "source": [
    "df_not_buy= df[df['conversion']==0]\n",
    "df_not_buy.isnull().mean()*100"
   ]
  },
  {
   "cell_type": "markdown",
   "id": "8ed690f7",
   "metadata": {},
   "source": [
    "conclusion: Checking for nulls in categories is due to the fact that no purchase or transport was made nor was a coupon used."
   ]
  },
  {
   "cell_type": "code",
   "execution_count": 46,
   "id": "b48f98ab",
   "metadata": {},
   "outputs": [],
   "source": [
    "df.loc[:,df.select_dtypes(include='O').columns]=df.select_dtypes(include='O').fillna('no_conversion')"
   ]
  }
 ],
 "metadata": {
  "kernelspec": {
   "display_name": ".venv (3.13.2)",
   "language": "python",
   "name": "python3"
  },
  "language_info": {
   "codemirror_mode": {
    "name": "ipython",
    "version": 3
   },
   "file_extension": ".py",
   "mimetype": "text/x-python",
   "name": "python",
   "nbconvert_exporter": "python",
   "pygments_lexer": "ipython3",
   "version": "3.13.2"
  }
 },
 "nbformat": 4,
 "nbformat_minor": 5
}
